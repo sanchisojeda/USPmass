{
 "cells": [
  {
   "cell_type": "code",
   "execution_count": 1,
   "metadata": {
    "collapsed": true
   },
   "outputs": [],
   "source": [
    "%matplotlib inline\n",
    "import pandas as pd\n",
    "import transit\n",
    "import numpy as np\n",
    "import matplotlib.pyplot as plt"
   ]
  },
  {
   "cell_type": "code",
   "execution_count": 12,
   "metadata": {
    "collapsed": false
   },
   "outputs": [
    {
     "name": "stdout",
     "output_type": "stream",
     "text": [
      "      Name  PRad  PRaderr  Rstar_a  Rstar_aerr  Rstar  Rstarerr  Teff  Tefferr\n",
      "0  KOI1169   1.5     0.13     0.33        0.02   1.09      0.09  5650      120\n"
     ]
    }
   ],
   "source": [
    "name = 'KOI1169'\n",
    "prad = 1.50\n",
    "praderr = 0.13\n",
    "Rs_a = 0.33\n",
    "Rs_aerr = 0.02\n",
    "Rs = 1.09\n",
    "Rserr = 0.09\n",
    "teff = 5650\n",
    "tefferr = 120\n",
    "\n",
    "columns = ['Name', 'PRad', 'PRaderr', 'Rstar_a','Rstar_aerr','Rstar', 'Rstarerr', 'Teff', 'Tefferr']\n",
    "planetframe = pd.DataFrame( columns=columns)\n",
    "\n",
    "planetframe.loc[0] = [name, prad, praderr, Rs_a, Rs_aerr, Rs, Rserr, teff, tefferr]\n",
    "\n",
    "print planetframe\n",
    "\n"
   ]
  },
  {
   "cell_type": "code",
   "execution_count": null,
   "metadata": {
    "collapsed": true
   },
   "outputs": [],
   "source": []
  }
 ],
 "metadata": {
  "kernelspec": {
   "display_name": "Python 2",
   "language": "python",
   "name": "python2"
  },
  "language_info": {
   "codemirror_mode": {
    "name": "ipython",
    "version": 2
   },
   "file_extension": ".py",
   "mimetype": "text/x-python",
   "name": "python",
   "nbconvert_exporter": "python",
   "pygments_lexer": "ipython2",
   "version": "2.7.9"
  }
 },
 "nbformat": 4,
 "nbformat_minor": 0
}
