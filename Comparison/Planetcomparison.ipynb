{
 "cells": [
  {
   "cell_type": "code",
   "execution_count": 1,
   "metadata": {
    "collapsed": true
   },
   "outputs": [],
   "source": [
    "%matplotlib inline\n",
    "import pandas as pd\n",
    "import transit\n",
    "import numpy as np\n",
    "import matplotlib.pyplot as plt"
   ]
  },
  {
   "cell_type": "markdown",
   "metadata": {},
   "source": [
    "We first simply compile all the information in the literature about secure mass measurements for rocky planets"
   ]
  },
  {
   "cell_type": "code",
   "execution_count": 104,
   "metadata": {
    "collapsed": false
   },
   "outputs": [],
   "source": [
    "name = 'KOI1169b'\n",
    "prad = 1.50\n",
    "praderr = 0.13\n",
    "pmass = 5.3\n",
    "pmasserr = 1.2\n",
    "Rs_a = 0.33\n",
    "Rs_aerr = 0.02\n",
    "Rs = 1.09\n",
    "Rserr = 0.09\n",
    "teff = 5650\n",
    "tefferr = 120\n",
    "reference = 'This work'\n",
    "\n",
    "columns = ['Name', 'PRad', 'PRaderr', 'PMass', 'PMasserr', 'Rstar_a','Rstar_aerr',\n",
    "           'Rstar', 'Rstarerr', 'Teff', 'Tefferr', 'USPflag', 'TTVflag' 'Reference']\n",
    "planetframe = pd.DataFrame( columns=columns)\n",
    "\n",
    "planetframe.loc[0] = [name, prad, praderr, pmass, pmasserr, Rs_a, Rs_aerr, Rs, Rserr, teff, tefferr, 1, 0, reference]\n",
    "planetframe.loc[1] = ['Kepler-78b', 1.20, 0.09, 1.87, 0.27, 1.0/2.7, 0.2/2.7**2, 0.74, 0.05, 5121, 44, 1, 0,\n",
    "                      'Howard et al. 2013, Grunblatt et al. 2014']\n",
    "planetframe.loc[2] = ['Kepler-10b', 1.47, 0.03, 3.33, 0.49, 1.0/3.4, 0.2/3.4**2.0, 1.065, 0.009, 5708, 29, 1,0,\n",
    "                      'Dumusque et al. 2014']\n",
    "planetframe.loc[3] = ['CoRoT-7b',  1.585, 0.064, 5.84, 0.86, 1.0/4.48, 0.07/4.48**2, 0.82, 0.019, 5259, 58,1, 0,\n",
    "                      'Barros et al. 2014']\n",
    "planetframe.loc[4] = ['55Cnc-e',  2.00, 0.14, 8.63, 0.35, 0.2769, 0.0043, 0.943, 0.10, 5196, 24 ,1, 0,\n",
    "                      'Winn et al. 2011, Von Braun et al. 2011']\n",
    "planetframe.loc[5] = ['Kepler-20b',  1.87, 0.16, 8.7, 2.2, 1.0/10.4, 0.9/10.4**2, 0.93, 0.08, 5455, 100, 0,0,\n",
    "                      'Gautier et al. 2011']\n",
    "planetframe.loc[6] = ['Kepler-89b',  1.71, 0.16, 10.5, 4.6, 1.0/7.25, 0.59/7.25**2, 1.52, 0.14, 6182, 58, 0,0,\n",
    "                      'Weiss et al. 2012']\n",
    "planetframe.loc[7] = ['Kepler-113b', 1.82, 0.05, 11.7, 4.2, 1.0/14.5,1.1/14.5**2, 0.69, 0.02, 4725, 74, 0,  0,\n",
    "                      'Marcy et al. 2014']\n",
    "planetframe.loc[8] = ['Kepler-98b', 1.99, 0.22, 3.55, 1.6, 1.0/3.3, 1.6/3.3**2,   1.11, 0.12, 5539, 73, 0, 0,  \n",
    "                      'Marcy et al. 2014']\n",
    "planetframe.loc[9] = ['Kepler-99b', 1.48, 0.08, 6.15, 1.3, 1.0/8.45, 4.2/8.45**2 , 0.73, 0.04, 4782, 129, 0, 0,\n",
    "                      'Marcy et al. 2014']\n",
    "planetframe.loc[10] = ['Kepler-406b', 1.43, 0.03, 6.35, 1.4, 1.0/7.04, 0.465/7.04**2,  1.07, 0.02, 5538, 75, 0, 0,   \n",
    "                      'Marcy et al. 2014']\n",
    "planetframe.loc[11] = ['Kepler-100b', 1.32, 0.04, 7.34, 3.2, 1.0/10.3, 3.3/10.3**2,  1.49, 0.04, 5825, 75, 0, 0, \n",
    "                      'Marcy et al. 2014']\n",
    "\n",
    "planetframe.loc[12] = ['Kepler-113b',  \n",
    "                      'Marcy et al. 2014']\n",
    "\n",
    "planetframe.loc[13] = ['Kepler-102b',  \n",
    "                      'Marcy et al. 2014']\n",
    "\n",
    "\n",
    "planetframe.loc[14] = ['Kepler-93b', 1.478, 0.019, 4.02, 0.68, 1.0/12.496, 0.015/12.496**2, 0.919, 0.011, 5669, 75, 0,\n",
    "                      'Dressing et al. 2015']\n",
    "\n",
    "planetframe.loc[15] = ['Kepler-36b', 1.486, 0.035, 4.5, 0.3, 0.0654,0.0003, 1.626, 0.019, 5911, 66, 0.0, 1.0, \n",
    "                      'Carter et al. 2012']\n",
    "\n",
    "planetframe.loc[16] = ['Kepler-138b',  1.61, 0.16, 3.9, 1.4, 1.0/47.55, 2.4/47.55**2, 0.54, 0.05, 3871, 58, 0, 1, \n",
    "                      'Kipping et al. 2014']\n",
    "planetframe.loc[17] = ['Kepler-138c',  1.61, 0.16, 1.0, 0.4, 1.0/40.8, 19.2, 0.54, 0.05, 3871, 58, 0, 1, \n",
    "                      'Kipping et al. 2014']\n",
    "\n",
    "planetframe.loc[18] = ['WASP-47d',  \n",
    "                      'Fei et al. 2015']\n",
    "\n",
    "#Change a/R for Marcy and Kipping planets from the stellar densities\n",
    "\n",
    "newr_a = pd.DataFrame( columns = ['Name', 'Rhostar', 'Rhostarerr', 'period'])\n",
    "\n",
    "newr_a.loc[0] = ['Kepler-113b', 2.71, 0.08, 4.754]\n",
    "newr_a.loc[1] = ['Kepler-98b', 1.12, 0.34, 1.54168]\n",
    "newr_a.loc[2] = ['Kepler-99b', 2.86, 0.23, 4.60358]\n",
    "newr_a.loc[3] = ['Kepler-406b', 1.12, 0.02, 2.42629]\n",
    "newr_a.loc[4] = ['Kepler-100b', 0.44, 0.01, 6.88705]\n",
    "newr_a.loc[5] = ['Kepler-138b', 2.9, 0.6, 13.78164]\n",
    "newr_a.loc[6] = ['Kepler-138c', 2.9, 0.6, 23.08933]"
   ]
  },
  {
   "cell_type": "code",
   "execution_count": 105,
   "metadata": {
    "collapsed": false
   },
   "outputs": [],
   "source": [
    "def getr_a(pl):\n",
    "    G = 6.6730e-11\n",
    "    P1 = pl[\"period\"]*24.0*3600.0\n",
    "    return ((3.0*np.pi/(G*P1**2))*(1.0/(pl[\"Rhostar\"]*1000.0)))**0.333\n",
    "\n",
    "def getr_aerr(pl):\n",
    "    return pl[\"Rs_a\"]*np.sqrt((0.333*pl[\"Rhostarerr\"]/pl[\"Rhostar\"])**2)"
   ]
  },
  {
   "cell_type": "code",
   "execution_count": 106,
   "metadata": {
    "collapsed": false
   },
   "outputs": [
    {
     "name": "stdout",
     "output_type": "stream",
     "text": [
      "          Name  Rhostar  Rhostarerr   period      Rs_a   Rs_aerr\n",
      "0  Kepler-113b     2.71        0.08  4.75400  0.067782  0.000666\n",
      "1   Kepler-98b     1.12        0.34  1.54168  0.192585  0.019468\n",
      "2   Kepler-99b     2.86        0.23  4.60358  0.068018  0.001822\n",
      "3  Kepler-406b     1.12        0.02  2.42629  0.142382  0.000847\n",
      "4  Kepler-100b     0.44        0.01  6.88705  0.097010  0.000734\n"
     ]
    }
   ],
   "source": [
    "newr_a[\"Rs_a\"] = newr_a.apply(lambda pl: getr_a(pl), axis=1)\n",
    "newr_a[\"Rs_aerr\"] = newr_a.apply(lambda pl: getr_aerr(pl), axis=1)\n",
    "print newr_a"
   ]
  },
  {
   "cell_type": "code",
   "execution_count": 107,
   "metadata": {
    "collapsed": false
   },
   "outputs": [
    {
     "name": "stdout",
     "output_type": "stream",
     "text": [
      "           Name   PRad  PRaderr  PMass  PMasserr   Rstar_a  Rstar_aerr  Rstar  \\\n",
      "0      KOI1169b  1.500    0.130   5.30      1.20  0.330000    0.020000  1.090   \n",
      "1    Kepler-78b  1.200    0.090   1.87      0.27  0.370370    0.027435  0.740   \n",
      "2    Kepler-10b  1.470    0.030   3.33      0.49  0.294118    0.017301  1.065   \n",
      "3      CoRoT-7b  1.585    0.064   5.84      0.86  0.223214    0.003488  0.820   \n",
      "4       55Cnc-e  2.000    0.140   8.63      0.35  0.276900    0.004300  0.943   \n",
      "5    Kepler-20b  1.870    0.160   8.70      2.20  0.096154    0.008321  0.930   \n",
      "6    Kepler-89b  1.710    0.160  10.50      4.60  0.137931    0.011225  1.520   \n",
      "7   Kepler-113b  1.820    0.050  11.70      4.20  0.068966    0.005232  0.690   \n",
      "8    Kepler-98b  1.990    0.220   3.55      1.60  0.303030    0.146924  1.110   \n",
      "9    Kepler-99b  1.480    0.080   6.15      1.30  0.118343    0.058821  0.730   \n",
      "10  Kepler-406b  1.430    0.030   6.35      1.40  0.142045    0.009382  1.070   \n",
      "11  Kepler-100b  1.320    0.040   7.34      3.20  0.097087    0.031106  1.490   \n",
      "12   Kepler-93b  1.478    0.019   4.02      0.68  0.080026    0.000096  0.919   \n",
      "\n",
      "    Rstarerr  Teff  Tefferr  USPflag  \\\n",
      "0      0.090  5650      120        1   \n",
      "1      0.050  5121       44        1   \n",
      "2      0.009  5708       29        1   \n",
      "3      0.019  5259       58        1   \n",
      "4      0.100  5196       24        1   \n",
      "5      0.080  5455      100        0   \n",
      "6      0.140  6182       58        0   \n",
      "7      0.020  4725       74        0   \n",
      "8      0.120  5539       73        0   \n",
      "9      0.040  4782      129        0   \n",
      "10     0.020  5538       75        0   \n",
      "11     0.040  5825       75        0   \n",
      "12     0.011  5669       75        0   \n",
      "\n",
      "                                    Reference  \n",
      "0                                   This work  \n",
      "1   Howard et al. 2013, Grunblatt et al. 2014  \n",
      "2                        Dumusque et al. 2014  \n",
      "3                          Barros et al. 2014  \n",
      "4     Winn et al. 2011, Von Braun et al. 2011  \n",
      "5                         Gautier et al. 2011  \n",
      "6                           Weiss et al. 2012  \n",
      "7                           Marcy et al. 2014  \n",
      "8                           Marcy et al. 2014  \n",
      "9                           Marcy et al. 2014  \n",
      "10                          Marcy et al. 2014  \n",
      "11                          Marcy et al. 2014  \n",
      "12                       Dressing et al. 2015  \n"
     ]
    },
    {
     "data": {
      "text/plain": [
       "<matplotlib.axes._subplots.AxesSubplot at 0x112f9bc50>"
      ]
     },
     "execution_count": 107,
     "metadata": {},
     "output_type": "execute_result"
    },
    {
     "data": {
      "image/png": "[encoded data removed]",
      "text/plain": [
       "<matplotlib.figure.Figure at 0x112f66290>"
      ]
     },
     "metadata": {},
     "output_type": "display_data"
    }
   ],
   "source": [
    "print planetframe\n",
    "\n",
    "pd.DataFrame.plot(planetframe, x='PMass', y='PRad', kind='scatter', yerr='PRaderr', xerr='PMasserr')"
   ]
  },
  {
   "cell_type": "markdown",
   "metadata": {},
   "source": [
    "We now start adding new columns to the data frame to look for patters in the data, starting with the planet density"
   ]
  },
  {
   "cell_type": "code",
   "execution_count": 108,
   "metadata": {
    "collapsed": true
   },
   "outputs": [],
   "source": [
    "def getdensity(pl):\n",
    "    return pl[\"PMass\"]/pl[\"PRad\"]**3\n",
    "\n",
    "def getdensityerr(pl):\n",
    "    return pl[\"PDensity\"]*np.sqrt((pl[\"PMasserr\"]/pl[\"PMass\"])**2.0 + (3.0*pl[\"PRaderr\"]/pl[\"PRad\"])**2)"
   ]
  },
  {
   "cell_type": "code",
   "execution_count": 109,
   "metadata": {
    "collapsed": false
   },
   "outputs": [
    {
     "data": {
      "text/plain": [
       "<matplotlib.axes._subplots.AxesSubplot at 0x112b7b310>"
      ]
     },
     "execution_count": 109,
     "metadata": {},
     "output_type": "execute_result"
    },
    {
     "data": {
      "image/png": "[encoded data removed]",
      "text/plain": [
       "<matplotlib.figure.Figure at 0x112f9b150>"
      ]
     },
     "metadata": {},
     "output_type": "display_data"
    }
   ],
   "source": [
    "planetframe[\"PDensity\"] = planetframe.apply(lambda pl: getdensity(pl), axis=1)\n",
    "planetframe[\"PDensityerr\"] = planetframe.apply(lambda pl: getdensityerr(pl), axis=1)\n",
    "\n",
    "pd.DataFrame.plot(planetframe, x='PRad', y='PDensity', kind='scatter', yerr='PDensityerr', xerr='PRaderr')"
   ]
  },
  {
   "cell_type": "markdown",
   "metadata": {},
   "source": [
    "Now the equilibrium temperature"
   ]
  },
  {
   "cell_type": "code",
   "execution_count": 110,
   "metadata": {
    "collapsed": true
   },
   "outputs": [],
   "source": [
    "def getteq(pl):\n",
    "    return pl[\"Teff\"]*np.sqrt(pl[\"Rstar_a\"])\n",
    "\n",
    "def getteqerr(pl):\n",
    "    return pl[\"Teq\"]*np.sqrt((pl[\"Tefferr\"]/pl[\"Teff\"])**2.0 + (0.5*pl[\"Rstar_aerr\"]/pl[\"Rstar_a\"])**2)"
   ]
  },
  {
   "cell_type": "code",
   "execution_count": 111,
   "metadata": {
    "collapsed": false
   },
   "outputs": [
    {
     "name": "stdout",
     "output_type": "stream",
     "text": [
      "           Name   PRad  PRaderr  PMass  PMasserr   Rstar_a  Rstar_aerr  Rstar  \\\n",
      "0      KOI1169b  1.500    0.130   5.30      1.20  0.330000    0.020000  1.090   \n",
      "1    Kepler-78b  1.200    0.090   1.87      0.27  0.370370    0.027435  0.740   \n",
      "2    Kepler-10b  1.470    0.030   3.33      0.49  0.294118    0.017301  1.065   \n",
      "3      CoRoT-7b  1.585    0.064   5.84      0.86  0.223214    0.003488  0.820   \n",
      "4       55Cnc-e  2.000    0.140   8.63      0.35  0.276900    0.004300  0.943   \n",
      "5    Kepler-20b  1.870    0.160   8.70      2.20  0.096154    0.008321  0.930   \n",
      "6    Kepler-89b  1.710    0.160  10.50      4.60  0.137931    0.011225  1.520   \n",
      "7   Kepler-113b  1.820    0.050  11.70      4.20  0.068966    0.005232  0.690   \n",
      "8    Kepler-98b  1.990    0.220   3.55      1.60  0.303030    0.146924  1.110   \n",
      "9    Kepler-99b  1.480    0.080   6.15      1.30  0.118343    0.058821  0.730   \n",
      "10  Kepler-406b  1.430    0.030   6.35      1.40  0.142045    0.009382  1.070   \n",
      "11  Kepler-100b  1.320    0.040   7.34      3.20  0.097087    0.031106  1.490   \n",
      "12   Kepler-93b  1.478    0.019   4.02      0.68  0.080026    0.000096  0.919   \n",
      "\n",
      "    Rstarerr  Teff  Tefferr  USPflag  \\\n",
      "0      0.090  5650      120        1   \n",
      "1      0.050  5121       44        1   \n",
      "2      0.009  5708       29        1   \n",
      "3      0.019  5259       58        1   \n",
      "4      0.100  5196       24        1   \n",
      "5      0.080  5455      100        0   \n",
      "6      0.140  6182       58        0   \n",
      "7      0.020  4725       74        0   \n",
      "8      0.120  5539       73        0   \n",
      "9      0.040  4782      129        0   \n",
      "10     0.020  5538       75        0   \n",
      "11     0.040  5825       75        0   \n",
      "12     0.011  5669       75        0   \n",
      "\n",
      "                                    Reference  PDensity  PDensityerr  \\\n",
      "0                                   This work  1.570370     0.541411   \n",
      "1   Howard et al. 2013, Grunblatt et al. 2014  1.082176     0.289312   \n",
      "2                        Dumusque et al. 2014  1.048316     0.167076   \n",
      "3                          Barros et al. 2014  1.466645     0.279662   \n",
      "4     Winn et al. 2011, Von Braun et al. 2011  1.078750     0.230723   \n",
      "5                         Gautier et al. 2011  1.330437     0.479386   \n",
      "6                           Weiss et al. 2012  2.099911     1.092602   \n",
      "7                           Marcy et al. 2014  1.940759     0.714809   \n",
      "8                           Marcy et al. 2014  0.450473     0.252077   \n",
      "9                           Marcy et al. 2014  1.897099     0.505423   \n",
      "10                          Marcy et al. 2014  2.171529     0.497887   \n",
      "11                          Marcy et al. 2014  3.191349     1.421250   \n",
      "12                       Dressing et al. 2015  1.245096     0.216018   \n",
      "\n",
      "            Teq      Teqerr  \n",
      "0   3245.677895  120.106140  \n",
      "1   3116.541352  118.492763  \n",
      "2   3095.597633   92.395385  \n",
      "3   2484.643954   33.581106  \n",
      "4   2734.202149   24.702212  \n",
      "5   1691.523693   79.488682  \n",
      "6   2295.937161   95.872118  \n",
      "7   1240.845791   50.920690  \n",
      "8   3049.119148  740.271917  \n",
      "9   1645.058011  411.232444  \n",
      "10  2087.212283   74.501944  \n",
      "11  1815.002875  291.690518  \n",
      "12  1603.691948   21.238420  \n"
     ]
    },
    {
     "data": {
      "image/png": "[encoded data removed]",
      "text/plain": [
       "<matplotlib.figure.Figure at 0x112c52990>"
      ]
     },
     "metadata": {},
     "output_type": "display_data"
    },
    {
     "data": {
      "image/png": "[encoded data removed]",
      "text/plain": [
       "<matplotlib.figure.Figure at 0x110c453d0>"
      ]
     },
     "metadata": {},
     "output_type": "display_data"
    }
   ],
   "source": [
    "planetframe[\"Teq\"] = planetframe.apply(lambda pl: getteq(pl), axis=1)\n",
    "planetframe[\"Teqerr\"] = planetframe.apply(lambda pl: getteqerr(pl), axis=1)\n",
    "\n",
    "pd.DataFrame.plot(planetframe, x='Teq', y='PDensity', kind='scatter', yerr='PDensityerr', xerr='Teqerr')\n",
    "pd.DataFrame.plot(planetframe, x='Teq', y='PRad', kind='scatter', yerr='PRaderr', xerr='Teqerr')\n",
    "\n",
    "\n",
    "print planetframe"
   ]
  },
  {
   "cell_type": "code",
   "execution_count": null,
   "metadata": {
    "collapsed": false
   },
   "outputs": [],
   "source": []
  }
 ],
 "metadata": {
  "kernelspec": {
   "display_name": "Python 2",
   "language": "python",
   "name": "python2"
  },
  "language_info": {
   "codemirror_mode": {
    "name": "ipython",
    "version": 2
   },
   "file_extension": ".py",
   "mimetype": "text/x-python",
   "name": "python",
   "nbconvert_exporter": "python",
   "pygments_lexer": "ipython2",
   "version": "2.7.9"
  }
 },
 "nbformat": 4,
 "nbformat_minor": 0
}
