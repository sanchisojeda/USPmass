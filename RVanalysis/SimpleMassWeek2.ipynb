{
 "cells": [
  {
   "cell_type": "code",
   "execution_count": 1,
   "metadata": {
    "collapsed": false
   },
   "outputs": [],
   "source": [
    "%matplotlib inline\n",
    "import pandas as pd\n",
    "import numpy as np\n",
    "import matplotlib.pyplot as plt\n",
    "from scipy.optimize import curve_fit"
   ]
  },
  {
   "cell_type": "markdown",
   "metadata": {},
   "source": [
    "I first read the data obtained with the Keck telescope into the frame data"
   ]
  },
  {
   "cell_type": "code",
   "execution_count": 2,
   "metadata": {
    "collapsed": false
   },
   "outputs": [],
   "source": [
    "data = pd.read_table('Keckdata.txt', skiprows=[0, 2], sep='\\s+')"
   ]
  },
  {
   "cell_type": "markdown",
   "metadata": {},
   "source": [
    "I then select the 6 observations taken during the first intense series of observations"
   ]
  },
  {
   "cell_type": "code",
   "execution_count": 3,
   "metadata": {
    "collapsed": false
   },
   "outputs": [
    {
     "data": {
      "text/html": [
       "<div style=\"max-height:1000px;max-width:1500px;overflow:auto;\">\n",
       "<table border=\"1\" class=\"dataframe\">\n",
       "  <thead>\n",
       "    <tr style=\"text-align: right;\">\n",
       "      <th></th>\n",
       "      <th>Obnm</th>\n",
       "      <th>UTdate</th>\n",
       "      <th>JD-2.44e6</th>\n",
       "      <th>mnvel</th>\n",
       "      <th>errvel</th>\n",
       "      <th>mdchi</th>\n",
       "      <th>cts</th>\n",
       "    </tr>\n",
       "  </thead>\n",
       "  <tbody>\n",
       "    <tr>\n",
       "      <th>15</th>\n",
       "      <td>   rj193.87</td>\n",
       "      <td> 2014/08/19</td>\n",
       "      <td> 16888.986332</td>\n",
       "      <td> 10.61</td>\n",
       "      <td> 2.31</td>\n",
       "      <td> 1.108</td>\n",
       "      <td> 6264</td>\n",
       "    </tr>\n",
       "    <tr>\n",
       "      <th>16</th>\n",
       "      <td>  rj193.472</td>\n",
       "      <td> 2014/08/21</td>\n",
       "      <td> 16890.761877</td>\n",
       "      <td>  3.42</td>\n",
       "      <td> 2.14</td>\n",
       "      <td> 1.120</td>\n",
       "      <td> 7858</td>\n",
       "    </tr>\n",
       "    <tr>\n",
       "      <th>17</th>\n",
       "      <td>  rj193.671</td>\n",
       "      <td> 2014/08/22</td>\n",
       "      <td> 16891.773524</td>\n",
       "      <td> 12.35</td>\n",
       "      <td> 2.21</td>\n",
       "      <td> 1.128</td>\n",
       "      <td> 8634</td>\n",
       "    </tr>\n",
       "    <tr>\n",
       "      <th>18</th>\n",
       "      <td>  rj193.879</td>\n",
       "      <td> 2014/08/23</td>\n",
       "      <td> 16892.791189</td>\n",
       "      <td>  6.41</td>\n",
       "      <td> 1.93</td>\n",
       "      <td> 1.132</td>\n",
       "      <td> 9043</td>\n",
       "    </tr>\n",
       "    <tr>\n",
       "      <th>19</th>\n",
       "      <td> rj193.1074</td>\n",
       "      <td> 2014/08/24</td>\n",
       "      <td> 16893.832869</td>\n",
       "      <td>  7.94</td>\n",
       "      <td> 1.94</td>\n",
       "      <td> 1.153</td>\n",
       "      <td> 9081</td>\n",
       "    </tr>\n",
       "    <tr>\n",
       "      <th>20</th>\n",
       "      <td> rj193.1275</td>\n",
       "      <td> 2014/08/25</td>\n",
       "      <td> 16894.850116</td>\n",
       "      <td> -6.56</td>\n",
       "      <td> 2.04</td>\n",
       "      <td> 1.130</td>\n",
       "      <td> 8619</td>\n",
       "    </tr>\n",
       "    <tr>\n",
       "      <th>21</th>\n",
       "      <td> rj193.1480</td>\n",
       "      <td> 2014/08/26</td>\n",
       "      <td> 16895.861506</td>\n",
       "      <td>  0.09</td>\n",
       "      <td> 1.81</td>\n",
       "      <td> 1.160</td>\n",
       "      <td> 9525</td>\n",
       "    </tr>\n",
       "  </tbody>\n",
       "</table>\n",
       "</div>"
      ],
      "text/plain": [
       "          Obnm      UTdate     JD-2.44e6  mnvel  errvel  mdchi   cts\n",
       "15    rj193.87  2014/08/19  16888.986332  10.61    2.31  1.108  6264\n",
       "16   rj193.472  2014/08/21  16890.761877   3.42    2.14  1.120  7858\n",
       "17   rj193.671  2014/08/22  16891.773524  12.35    2.21  1.128  8634\n",
       "18   rj193.879  2014/08/23  16892.791189   6.41    1.93  1.132  9043\n",
       "19  rj193.1074  2014/08/24  16893.832869   7.94    1.94  1.153  9081\n",
       "20  rj193.1275  2014/08/25  16894.850116  -6.56    2.04  1.130  8619\n",
       "21  rj193.1480  2014/08/26  16895.861506   0.09    1.81  1.160  9525"
      ]
     },
     "execution_count": 3,
     "metadata": {},
     "output_type": "execute_result"
    }
   ],
   "source": [
    "vals = (data['JD-2.44e6'] < 16905.0) & (data['JD-2.44e6']> 16885.0)\n",
    "newdata = data[vals]\n",
    "newdata"
   ]
  },
  {
   "cell_type": "markdown",
   "metadata": {},
   "source": [
    "And I select the three important variables, with the option to add an error in quadrature"
   ]
  },
  {
   "cell_type": "code",
   "execution_count": 4,
   "metadata": {
    "collapsed": false
   },
   "outputs": [],
   "source": [
    "bjd = np.array(newdata['JD-2.44e6'], 'd')\n",
    "rvs = np.array(newdata['mnvel'], 'd')\n",
    "rverr = np.array(newdata['errvel'], 'd')\n",
    "additionalerr = 0.0\n",
    "error = np.sqrt(rverr**2+additionalerr**2)"
   ]
  },
  {
   "cell_type": "markdown",
   "metadata": {},
   "source": [
    "Now I use the orbital ephemeris obtained from the transits to define the orbital phases, and I also define a new zero point for the BJD timestamps"
   ]
  },
  {
   "cell_type": "code",
   "execution_count": 5,
   "metadata": {
    "collapsed": false
   },
   "outputs": [],
   "source": [
    "period = 0.6892099\n",
    "tc = 2454953.1910\n",
    "tc = tc-2440000.0\n",
    "\n",
    "phasesaux = (bjd-tc)/period\n",
    "phases, orbit = np.modf(phasesaux)\n",
    "\n",
    "phases = phases\n",
    "bjdlv = np.mean(bjd)\n",
    "bjdrest, bjdint = np.modf(bjdlv)\n",
    "\n",
    "phi0 = (bjdint-tc)/period\n",
    "aux, phi0 = phi0-np.modf(phi0)\n",
    "\n",
    "shortbjd = bjd-bjdint\n",
    "\n",
    "data = np.append(phases, shortbjd)"
   ]
  },
  {
   "cell_type": "markdown",
   "metadata": {},
   "source": [
    "Now I define a function to fit a simple second order polynomial with time with the planet signal"
   ]
  },
  {
   "cell_type": "code",
   "execution_count": 6,
   "metadata": {
    "collapsed": false
   },
   "outputs": [],
   "source": [
    "def parabolaplanet(x, K, a, b, c):\n",
    "    \"Model to fit a sinusoid to the RV data\"\n",
    "    num = len(x)\n",
    "    newphase = x[0:num/2]\n",
    "    newbjd = x[num/2:]\n",
    "    return -K*np.sin(2.0*np.pi*newphase) + a + b*newbjd + c*newbjd**2"
   ]
  },
  {
   "cell_type": "markdown",
   "metadata": {},
   "source": [
    "And I obtain the best fit parameters, their uncertainties, and I plot the observations and the model"
   ]
  },
  {
   "cell_type": "code",
   "execution_count": 7,
   "metadata": {
    "collapsed": false
   },
   "outputs": [],
   "source": [
    "params, conv = curve_fit(parabolaplanet, data, rvs, sigma=error )\n",
    "paramserror = np.sqrt(np.diag(conv))\n"
   ]
  },
  {
   "cell_type": "code",
   "execution_count": 8,
   "metadata": {
    "collapsed": false
   },
   "outputs": [
    {
     "data": {
      "text/plain": [
       "[<matplotlib.lines.Line2D at 0x1101a28d0>]"
      ]
     },
     "execution_count": 8,
     "metadata": {},
     "output_type": "execute_result"
    },
    {
     "data": {
      "image/png": "[encoded data removed]",
      "text/plain": [
       "<matplotlib.figure.Figure at 0x11019f5d0>"
      ]
     },
     "metadata": {},
     "output_type": "display_data"
    }
   ],
   "source": [
    "fig = plt.figure(figsize=(14,4))\n",
    "ax = fig.add_subplot(1,2,1)\n",
    "ax.scatter(shortbjd, rvs)\n",
    "ax.errorbar(shortbjd, rvs, yerr=error, fmt='o')\n",
    "plt.xlim([-5, 5]) \n",
    "ax.set_xlabel('Time [BJD]')\n",
    "ax.set_ylabel('Radial velocity [m/s]')\n",
    "\n",
    "K, a, b, c = params\n",
    "Kerr, aerr, berr, cerr = paramserror\n",
    "theoRV = parabolaplanet(data, K, a, b, c)\n",
    "chi2= np.sum( ((theoRV-rvs)/error)**2)\n",
    "\n",
    "newbjd = np.linspace(-5, 5, 500)\n",
    "newx = (newbjd/period) + phi0\n",
    "\n",
    "newdata = np.append(newx, newbjd)\n",
    "\n",
    "plt.plot(newbjd, parabolaplanet(newdata, K, a, b, c))\n",
    "\n",
    "\n",
    "\n",
    "ax = fig.add_subplot(1,2,2)\n",
    "\n",
    "plottheoRV = parabolaplanet(data, 0.0, a, b, c)\n",
    "\n",
    "ax.scatter(phases, rvs-plottheoRV)\n",
    "ax.errorbar(phases, rvs-plottheoRV, yerr=error, fmt='o')\n",
    "plt.xlim([-0, 1]) \n",
    "ax.set_xlabel('Orbital phase')\n",
    "ax.set_ylabel('Fiducial Radial velocity [m/s]')\n",
    "\n",
    "plt.plot(newx, parabolaplanet(newdata, K, 0.0, 0.0, 0.0))"
   ]
  },
  {
   "cell_type": "code",
   "execution_count": 9,
   "metadata": {
    "collapsed": false
   },
   "outputs": [
    {
     "name": "stdout",
     "output_type": "stream",
     "text": [
      "K value 4.34 +- 1.21\n",
      "Chi2 value 5.86 with 7 points and 5 parameters\n"
     ]
    }
   ],
   "source": [
    "print('K value {0:3.2f} +- {1:3.2f}' .format(K, Kerr))\n",
    "print('Chi2 value {0:3.2f} with {1:1.0f} points and 5 parameters' .format(chi2, len(rvs)))"
   ]
  }
 ],
 "metadata": {
  "kernelspec": {
   "display_name": "Python 2",
   "language": "python",
   "name": "python2"
  },
  "language_info": {
   "codemirror_mode": {
    "name": "ipython",
    "version": 2
   },
   "file_extension": ".py",
   "mimetype": "text/x-python",
   "name": "python",
   "nbconvert_exporter": "python",
   "pygments_lexer": "ipython2",
   "version": "2.7.6"
  }
 },
 "nbformat": 4,
 "nbformat_minor": 0
}
