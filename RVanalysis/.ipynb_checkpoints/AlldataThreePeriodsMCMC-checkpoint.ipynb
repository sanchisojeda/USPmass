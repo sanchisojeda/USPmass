{
 "cells": [
  {
   "cell_type": "code",
   "execution_count": 2,
   "metadata": {
    "collapsed": false
   },
   "outputs": [],
   "source": [
    "%matplotlib inline\n",
    "import pandas as pd\n",
    "import numpy as np\n",
    "import matplotlib.pyplot as plt\n",
    "import scipy.optimize as op\n",
    "import emcee\n",
    "import transit"
   ]
  },
  {
   "cell_type": "markdown",
   "metadata": {},
   "source": [
    "I first read the data obtained with the Keck telescope into the frame data"
   ]
  },
  {
   "cell_type": "code",
   "execution_count": 3,
   "metadata": {
    "collapsed": false
   },
   "outputs": [],
   "source": [
    "newdata = pd.read_table('Keckdata.txt', skiprows=[0, 2], sep='\\s+')"
   ]
  },
  {
   "cell_type": "markdown",
   "metadata": {},
   "source": [
    "And I select the three important variables, with the option to add an error in quadrature"
   ]
  },
  {
   "cell_type": "code",
   "execution_count": 4,
   "metadata": {
    "collapsed": false
   },
   "outputs": [],
   "source": [
    "bjd = np.array(newdata['JD-2.44e6'], 'd')\n",
    "rvs = np.array(newdata['mnvel'], 'd')\n",
    "rverr = np.array(newdata['errvel'], 'd')\n",
    "additionalerr = 0.0"
   ]
  },
  {
   "cell_type": "markdown",
   "metadata": {},
   "source": [
    "Now I use the orbital ephemeris obtained from the transits to define the orbital phases, and I also define a new zero point for the BJD timestamps"
   ]
  },
  {
   "cell_type": "code",
   "execution_count": 5,
   "metadata": {
    "collapsed": false
   },
   "outputs": [],
   "source": [
    "period = 0.6892099\n",
    "tc = 2454953.1910\n",
    "tc = tc-2440000.0\n",
    "\n",
    "phasesaux = (bjd-tc)/period\n",
    "phases, orbit = np.modf(phasesaux)\n",
    "\n",
    "phases = phases\n",
    "bjdlv = np.mean(bjd)\n",
    "bjdrest, bjdint = np.modf(bjdlv)\n",
    "\n",
    "phi0 = (bjdint-tc)/period\n",
    "aux, phi0 = phi0-np.modf(phi0)\n",
    "\n",
    "shortbjd = bjd-bjdint"
   ]
  },
  {
   "cell_type": "markdown",
   "metadata": {},
   "source": [
    "Now I define a function that calculates the log of the likelihood for the fit"
   ]
  },
  {
   "cell_type": "code",
   "execution_count": 8,
   "metadata": {
    "collapsed": false
   },
   "outputs": [],
   "source": [
    "def threeperiodmodel(theta, phases, shortbjd):\n",
    "    K, a, Amp, Phi, Per, Amp2, Phi2, Per2, Amp3, Phi3, Per3, sigma = theta\n",
    "        \n",
    "    return (-K*np.sin(2.0*np.pi*phases) + a + Amp*np.sin(2.0*np.pi*(shortbjd-Phi)/Per)\n",
    "   + Amp2*np.sin(2.0*np.pi*(shortbjd-Phi2)/Per2) + Amp3*np.sin(2.0*np.pi*(shortbjd-Phi3)/Per3))"
   ]
  },
  {
   "cell_type": "code",
   "execution_count": 9,
   "metadata": {
    "collapsed": false
   },
   "outputs": [],
   "source": [
    "def lnlike(theta, phases, shortbjd, rvs, error):\n",
    "    \"Model to fit a sinusoid to the RV data\"\n",
    "    K, a, Amp, Phi, Per, Amp2, Phi2, Per2, Amp3, Phi3, Per3, sigma = theta\n",
    "\n",
    "    theoRV = threeperiodmodel(theta, phases, shortbjd)\n",
    "    inv_sigma2 = 1.0/(error**2 + sigma**2)\n",
    "\n",
    "    return -0.5*(np.sum((theoRV-rvs)**2*inv_sigma2 - np.log(inv_sigma2)))"
   ]
  },
  {
   "cell_type": "code",
   "execution_count": 10,
   "metadata": {
    "collapsed": true
   },
   "outputs": [],
   "source": [
    "def lnprior(theta):\n",
    "    K, a, Amp, Phi, Per, Amp2, Phi2, Per2, Amp3, Phi3, Per3, sigma = theta\n",
    "\n",
    "    if ((20.0 < Per < 40.0) and (13.0 <= Per2 <20.0) and (6.0 <= Per3 <10.0) and(0 <= sigma) \n",
    "        and (0 <= Amp) and (0 <= Amp2) and (0 <= Amp3) and (0.0 <= Phi <= Per) and (0.0 <= Phi2 <= Per2) \n",
    "        and(0.0 <= Phi3 <= Per3)):\n",
    "        return 0.0\n",
    "    return -np.inf"
   ]
  },
  {
   "cell_type": "code",
   "execution_count": 11,
   "metadata": {
    "collapsed": true
   },
   "outputs": [],
   "source": [
    "def lnprob(theta, phases, shortbjd, rvs, error):\n",
    "    lp = lnprior(theta)\n",
    "    if not np.isfinite(lp):\n",
    "        return -np.inf\n",
    "    return lp + lnlike(theta, phases, shortbjd, rvs, error)"
   ]
  },
  {
   "cell_type": "markdown",
   "metadata": {},
   "source": [
    "And I obtain the best fit parameters, their uncertainties, and I plot the observations and the model"
   ]
  },
  {
   "cell_type": "code",
   "execution_count": 12,
   "metadata": {
    "collapsed": false
   },
   "outputs": [
    {
     "name": "stdout",
     "output_type": "stream",
     "text": [
      "Optimization terminated successfully.\n",
      "         Current function value: 32.822940\n",
      "         Iterations: 34\n",
      "         Function evaluations: 666\n",
      "         Gradient evaluations: 47\n"
     ]
    }
   ],
   "source": [
    "nll = lambda *args: -lnprob(*args)\n",
    "result = op.minimize(nll, [4.0, 8.0, 5.0, 10.0, 28.0, 8.0, 5.0, 15.5, 5.0, 3.0, 8.5, 1.5], \n",
    "                     args=(phases, shortbjd, rvs, rverr), tol=0.01, options={'disp': True, 'maxiter':100000}, method='BFGS')\n",
    "K_ml, a_ml, Amp_ml, Phi_ml, Per_ml, Amp2_ml, Phi2_ml, Per2_ml, Amp3_ml, Phi3_ml, Per3_ml, sigma_ml = result[\"x\"]\n",
    "error = np.sqrt(rverr**2+ 0.0*sigma_ml**2)"
   ]
  },
  {
   "cell_type": "code",
   "execution_count": 13,
   "metadata": {
    "collapsed": false
   },
   "outputs": [
    {
     "data": {
      "text/plain": [
       "[<matplotlib.lines.Line2D at 0x10fc61850>]"
      ]
     },
     "execution_count": 13,
     "metadata": {},
     "output_type": "execute_result"
    },
    {
     "data": {
      "image/png": "[encoded data removed]",
      "text/plain": [
       "<matplotlib.figure.Figure at 0x10fbc6ad0>"
      ]
     },
     "metadata": {},
     "output_type": "display_data"
    }
   ],
   "source": [
    "fig = plt.figure(figsize=(14,4))\n",
    "ax = fig.add_subplot(1,2,1)\n",
    "ax.scatter(shortbjd, rvs)\n",
    "ax.errorbar(shortbjd, rvs, yerr=error, fmt='o')\n",
    "plt.xlim([-50, 50]) \n",
    "ax.set_xlabel('Time [BJD]')\n",
    "ax.set_ylabel('Radial velocity [m/s]')\n",
    "\n",
    "theoRV = (-K_ml*np.sin(2.0*np.pi*phases) + a_ml + Amp_ml*np.sin(2.0*np.pi*(shortbjd-Phi_ml)/Per_ml)\n",
    "   + Amp2_ml*np.sin(2.0*np.pi*(shortbjd-Phi2_ml)/Per2_ml) + Amp3_ml*np.sin(2.0*np.pi*(shortbjd-Phi3_ml)/Per3_ml))\n",
    "    \n",
    "chi2= np.sum( ((theoRV-rvs)/error)**2)\n",
    "\n",
    "newbjd = np.linspace(-50, 50, 500)\n",
    "newx = (newbjd/period) + phi0\n",
    "newphases, orbit = np.modf(newx)\n",
    "\n",
    "newRVplot = (-K_ml*np.sin(2.0*np.pi*newphases) + a_ml + Amp_ml*np.sin(2.0*np.pi*(newbjd-Phi_ml)/Per_ml)\n",
    "   + Amp2_ml*np.sin(2.0*np.pi*(newbjd-Phi2_ml)/Per2_ml) + Amp3_ml*np.sin(2.0*np.pi*(newbjd-Phi3_ml)/Per3_ml))\n",
    "    \n",
    "\n",
    "plt.plot(newbjd, newRVplot)\n",
    "\n",
    "\n",
    "ax = fig.add_subplot(1,2,2)\n",
    "\n",
    "plottheoRV = (a_ml + Amp_ml*np.sin(2.0*np.pi*(shortbjd-Phi_ml)/Per_ml)\n",
    "   + Amp2_ml*np.sin(2.0*np.pi*(shortbjd-Phi2_ml)/Per2_ml) + Amp3_ml*np.sin(2.0*np.pi*(shortbjd-Phi3_ml)/Per3_ml))\n",
    "    \n",
    "\n",
    "ax.scatter(phases, rvs-plottheoRV)\n",
    "ax.errorbar(phases, rvs-plottheoRV, yerr=error, fmt='o')\n",
    "plt.xlim([-0, 1]) \n",
    "ax.set_xlabel('Orbital phase')\n",
    "ax.set_ylabel('Fiducial Radial velocity [m/s]')\n",
    "\n",
    "\n",
    "sort_index = np.argsort(newphases)\n",
    "ytheo = -K_ml*np.sin(2.0*np.pi*newphases)\n",
    "\n",
    "plt.plot(newphases[sort_index], ytheo[sort_index])"
   ]
  },
  {
   "cell_type": "markdown",
   "metadata": {},
   "source": [
    "With the best fit solution, it is time to run and MCMC routine to estimate the uncertainties on the parameters"
   ]
  },
  {
   "cell_type": "code",
   "execution_count": 164,
   "metadata": {
    "collapsed": false
   },
   "outputs": [],
   "source": [
    "ndim, nwalkers = 12, 100\n",
    "pos = [result[\"x\"]*(1+5e-2*np.random.randn(ndim)) for i in range(nwalkers)]"
   ]
  },
  {
   "cell_type": "code",
   "execution_count": 170,
   "metadata": {
    "collapsed": false
   },
   "outputs": [
    {
     "data": {
      "text/plain": [
       "(array([[  3.47457169,  -2.2288265 ,   7.1826812 , ...,   7.00736244,\n",
       "           8.27585216,   2.28424029],\n",
       "        [  3.51044606,  -1.58804774,   6.58150308, ...,   1.6153552 ,\n",
       "           7.10708167,   2.94067402],\n",
       "        [  2.81080345,  -3.67880248,   7.98341482, ...,   6.99111179,\n",
       "           7.52163122,   3.58041531],\n",
       "        ..., \n",
       "        [  2.52944776,  -4.04887311,   6.22454325, ...,   0.37489823,\n",
       "           9.76263769,   3.51722023],\n",
       "        [  3.56487387,  -1.92997076,   3.43513167, ...,   1.36418812,\n",
       "           6.24495465,   4.87742845],\n",
       "        [  5.48049813,  -7.18886075,  10.79218169, ...,   5.97927315,\n",
       "           7.85766624,   3.08991685]]),\n",
       " array([-41.24576409, -45.6739463 , -40.10588769, -43.85622764,\n",
       "        -39.0502843 , -42.38414688, -38.86625326, -42.89725047,\n",
       "        -43.57316177, -38.64961859, -39.22552774, -36.22614291,\n",
       "        -39.77845952, -37.76023529, -40.11823244, -38.12381984,\n",
       "        -47.18485205, -43.57033049, -48.29978549, -46.11689723,\n",
       "        -46.01607351, -39.24072642, -42.1108412 , -42.70937721,\n",
       "        -42.04820141, -37.83602114, -49.62596222, -47.61486266,\n",
       "        -44.9882212 , -35.80294392, -40.63875162, -49.19502643,\n",
       "        -45.63567712, -43.43487366, -41.04316952, -38.57527872,\n",
       "        -36.21263186, -40.22373187, -40.03001785, -36.14063074,\n",
       "        -41.13719526, -38.42741464, -34.83309759, -42.45449349,\n",
       "        -42.99991803, -39.48545142, -40.21058506, -37.37744505,\n",
       "        -35.76690594, -51.5767384 , -39.46036242, -37.80234247,\n",
       "        -35.60290624, -39.58290237, -41.51294616, -43.47860118,\n",
       "        -33.78558449, -38.56955795, -38.78009909, -43.49667362,\n",
       "        -42.68610103, -40.47011971, -47.33325954, -40.08078268,\n",
       "        -40.7008603 , -40.4157901 , -50.0824377 , -42.9886478 ,\n",
       "        -45.86687046, -44.16227558, -49.87794602, -40.89944818,\n",
       "        -47.00324223, -47.12549037, -42.53163086, -42.10652015,\n",
       "        -41.71187164, -35.97697495, -47.11465909, -49.56788068,\n",
       "        -39.91233257, -36.63011025, -43.03144586, -38.27029953,\n",
       "        -47.64196998, -48.6623195 , -35.35656569, -37.68098981,\n",
       "        -41.46885915, -44.85114273, -45.78891149, -40.07495013,\n",
       "        -42.53240541, -40.36129679, -42.91446601, -41.68401061,\n",
       "        -40.03180605, -43.34918969, -47.5457606 , -43.9459764 ]),\n",
       " ('MT19937', array([1773616468, 1034733715, 2252225704,  566117208, 3598053901,\n",
       "         1567464529, 3251492066, 3341628691, 1783231020, 2280832981,\n",
       "         3825326647,  847067697, 2107560864,  861171832, 1914155703,\n",
       "         4031447701, 3716076117, 1094260888,  185195786, 3373537535,\n",
       "         2035770206,  801462198, 1213384874,  454659738, 1543828643,\n",
       "         2179930269, 3472843447,  835307035, 3731622580,  264291154,\n",
       "         3581320699,   10924090,  845339201, 2965942362, 3588601769,\n",
       "          962300650, 3322293784, 2620707762, 1140048973, 3611199680,\n",
       "         3219961363,   41589858,  278120509, 3706203920, 1462817456,\n",
       "         2034576295, 1265529554, 3569110605, 2862579742, 3391430890,\n",
       "         3154500411, 1188645380, 3420963957, 3060027251, 3719408317,\n",
       "          602112380, 2102074790, 1425433859, 1521952901, 3705450635,\n",
       "         1819106423, 4043920117, 1610135353, 3767574759, 2952154349,\n",
       "           80788615, 3347652981,  999106414, 2969229590,  644778912,\n",
       "         1174819824, 1225715288, 1667603100,  349428061, 3063126929,\n",
       "         1808559830, 1336542891, 2167680030, 1819625927, 3097465030,\n",
       "          686357944, 4189970906,  978516526, 1961948913, 2775082311,\n",
       "         2276598126,  917381587,  835281585, 2572421180, 1045457699,\n",
       "          553140948, 3794658439, 3326420170,  339102052, 3861771489,\n",
       "         1018293064,  665246183, 1994335935,  402490656, 1401299128,\n",
       "         2020208033, 1327132182, 1712591938,   49470919,  624154307,\n",
       "          597550153, 4027947427, 3246235373, 2778998735, 3263622670,\n",
       "         1335390295, 2027504214, 3424154857, 1202221644, 2990833096,\n",
       "         1549375608, 1072038885, 2489530446, 2960836063, 1000994506,\n",
       "          859127876,  960031947, 2147673316, 3783735734, 3925164833,\n",
       "         1873831062, 3778168529, 2456940142, 3961469987, 2596323724,\n",
       "          970979461,  774167937,  759028345,  383186413, 3354299717,\n",
       "          653248883, 1924204249,  349779625, 1938957358, 4118474103,\n",
       "         3190114710, 2300933123, 1445001114, 1361484294,  184918255,\n",
       "          781699625, 2163615579, 2041264826,  335939910, 2490612591,\n",
       "         1391199782, 4048907313, 3873301111,  477691254,  543330399,\n",
       "          233238268,  170795242, 3723372620, 2299721535, 2072226568,\n",
       "          146388759, 2628228421,  622560876, 3518815710,  757761003,\n",
       "           23759400, 2654571975,  831226148, 3389933624, 2836759146,\n",
       "         1800921678, 1166771101, 3194099909, 1651994746, 1493905544,\n",
       "         2638827014, 2758802461, 2744261468, 2864123827, 1761464414,\n",
       "          470212610, 3637224023, 3233904289, 3182328635,  742359960,\n",
       "         1404195416, 2840033475, 2110924601, 1444652572,  114716666,\n",
       "          632454943, 2710393824, 3889018339, 2160233736, 2235676777,\n",
       "         1267224579, 1595684484, 2252462487,  963349237, 3175295668,\n",
       "         2028318950, 4034416781, 2180239186, 3949633907, 2354431985,\n",
       "          891688371, 2814266712, 1170584299, 1126389862,  790781360,\n",
       "         1666108827, 1460689517,  544547692, 3663046106,  157171716,\n",
       "         1484618056, 2177394079, 2127606399,  169692750, 3645320058,\n",
       "          256822484, 2932527317, 1189139714,  705881745,  551620321,\n",
       "         2084064860,   22038027,  676499563, 1331568197,  168666478,\n",
       "         2329847839, 2572484086, 2305051616, 2983935645, 1981805448,\n",
       "         2128708245, 2673378332, 1880146393,  167686540, 1763654811,\n",
       "         3907037048, 2247453092, 3713478262, 4170131630, 2473869837,\n",
       "          200873473, 3496770901, 2929721503,  875480601, 2884429506,\n",
       "         2946306378, 1194744047, 3578086957,  529791657, 1788605320,\n",
       "         1918015237,   31683759, 1811219814, 1659441702,  362499460,\n",
       "         3445824890, 1983596366, 1574386024, 1368291209, 3749378370,\n",
       "         1273161302, 2726056087,  982944649, 1031951306, 2740361270,\n",
       "         3615152780, 1534789766, 2001463212, 4000088210,  152582628,\n",
       "          973223800,   93154674, 1689810823, 2961520583, 2701101345,\n",
       "          199171141, 1349092305, 2703228397, 1321183706, 1611081104,\n",
       "         1285235139, 4122993178, 2042305900, 3511281772, 3191643425,\n",
       "         2168137457, 1289047967, 2704758158, 1301169476, 3472073253,\n",
       "         2544617445,  300832111, 2504826397,  155911626, 2495702057,\n",
       "         2478147374, 4271284952,  597094293, 2915575339, 3215357295,\n",
       "         3819843068, 1340610784, 2811237152, 2406242487, 1334677500,\n",
       "         2542703208, 4252875065,  167544526, 3416829039,  101267874,\n",
       "         3058326192, 1307269169, 3599986175, 2943419989,  667938112,\n",
       "         4086767919,  440671229, 1520256352, 4146344446, 1270430965,\n",
       "          666370656, 3810593110,  394527868, 2101287803, 2472042245,\n",
       "         3596506767, 1048072435, 1842491437,  917994169,  747901833,\n",
       "         2846031187,  216811648, 3412729595, 1536300402, 2098109674,\n",
       "         3158360887,  511383345, 2063217813, 2580614102, 1716746469,\n",
       "         2675167563, 3755111088,  903707149,  244524336, 3440181801,\n",
       "          382026121, 2113805758, 1947674165, 2953995414, 3538429468,\n",
       "         1026048636,   16465867, 4058788722, 1854658559,  756300194,\n",
       "         3767641865, 3783548981, 2092089465, 2736365127, 3644482283,\n",
       "         2649843918, 1695662296,  190830996,   45877324, 1932285490,\n",
       "         1169434277, 4216627242,  638187755,  163401204, 1610248842,\n",
       "          990007354, 3489388918,  897725684, 2670982703,  411086423,\n",
       "          407055751, 1656423229, 3678874747, 3999066210, 1146110596,\n",
       "         3631760326, 3728658247, 1632602857,   27719313, 1469280477,\n",
       "         2295284216, 3553330162, 2643728055, 2898814453, 4115551850,\n",
       "          469487279, 2607550939,  546319276, 2432709895, 1686688541,\n",
       "         3943494359,  817602116, 2859205302,  639639313, 3923179046,\n",
       "         2554724551, 1716008418, 3244945437, 1641540002, 3211843020,\n",
       "         1439577114, 3763410282, 4120489317, 3008777232, 2602362125,\n",
       "         1760965594,  124259100, 3204146211,  514771192, 2268677043,\n",
       "          634291742, 1414736150, 1159462592, 3947197997, 3955010269,\n",
       "         3526628618,  597047603, 2896203314, 3481033353, 3853016293,\n",
       "         3685793508,  651218043, 1309325958,  857606726, 3603652518,\n",
       "         3568432201, 1514902235, 3906183766,  161434498, 1739179568,\n",
       "         1682991755, 1051860004, 4216256741,  870969211, 2700179801,\n",
       "         3840462955, 3362541199, 3486030054,  640446314, 1712965826,\n",
       "          604994333,  859953635,  909115882,  501504817,  258607077,\n",
       "         3629201314, 1123325756, 1237377412, 1551279168, 2450937178,\n",
       "         2753054544, 2554772792,  344384761, 2621027825,  446326202,\n",
       "         1985496631,  840537439, 3934100398,  535138655, 3406600611,\n",
       "         1606094935, 3697802916, 2146806190, 1809450070, 3953212871,\n",
       "         1847589199, 3709153233, 4216755500, 3144303365, 1788262178,\n",
       "         3640967379, 2041573221, 3529473227,  128042985, 2940358996,\n",
       "         2122389723, 2445957411, 4022338516, 2968086382,  763961013,\n",
       "          732564317, 2985770469, 4042714314, 4229697051, 3845780074,\n",
       "            1693120, 1710144973,  484786700, 3193974201, 2973465479,\n",
       "          620194143, 3301655427, 2741469706,  736622933, 2135487267,\n",
       "         1964972672, 3815821083, 1574518877, 3019358229,  311009887,\n",
       "         1694028489,  334261890, 3968905665, 3222984943, 3397281051,\n",
       "         4004674259, 1847270136, 3978258743, 1319811003, 1593031497,\n",
       "         3653709163, 2771626553, 4168396405, 2234547250, 1749079900,\n",
       "          156502752, 1054038664, 3035769003, 1583593716, 3558713870,\n",
       "          329896032,  979015274, 1947210272, 3874757605, 1436942794,\n",
       "         1218631990, 2891154159, 1940936617, 2755376125, 4034669574,\n",
       "         4193697894, 1890578673, 4207355439, 4225661450,  749628692,\n",
       "         1108778667, 2041135025, 1568045742, 2938107985, 2524759245,\n",
       "          121210550,  687372603,  193039419, 4115818785, 3316826900,\n",
       "         4086467584, 1415294384,  139351380,  366183336, 2259406630,\n",
       "         2828772754, 3108318804, 1077903038, 1829166825, 2928624174,\n",
       "         3233318730, 3694718181,  888413956,   45795175, 2180997189,\n",
       "         3317612980,  997141508,  880465163, 2280146820, 1519149466,\n",
       "         4123370373, 1463523591, 3127568138, 4276480922, 2172687449,\n",
       "         3354049393, 2475722382, 3515758828, 1003836410, 4272728834,\n",
       "          637175228, 2881940508,    7060976, 1577504675, 2868651780,\n",
       "         2658871381, 1442373629, 1776162980, 1130960783, 3876532424,\n",
       "         2425484355,  225640672, 2016999797, 2233469801, 1605616585,\n",
       "         1195348171, 3832573600, 1723432977,  562186163,  811889957,\n",
       "         1463449666, 2851431739, 2621416952, 3605858531, 2243954434,\n",
       "         1503090072, 1397217125, 3183732522, 2684140598, 1987455337,\n",
       "         3646154534,  709533033,  321464365, 2862931679, 2621308303,\n",
       "         4053316931, 2178655820, 3869558313, 4021784433], dtype=uint32), 518, 0, 0.0))"
      ]
     },
     "execution_count": 170,
     "metadata": {},
     "output_type": "execute_result"
    }
   ],
   "source": [
    "sampler = emcee.EnsembleSampler(nwalkers, ndim, lnprob, args=(phases, shortbjd, rvs, rverr))\n",
    "sampler.run_mcmc(pos, 50000)"
   ]
  },
  {
   "cell_type": "code",
   "execution_count": 175,
   "metadata": {
    "collapsed": true
   },
   "outputs": [],
   "source": [
    "samples = sampler.chain[:, 5000:, :].reshape((-1, ndim)) #Burn in portion to remove (currently %10)"
   ]
  },
  {
   "cell_type": "markdown",
   "metadata": {},
   "source": [
    "Now I plot the results in a triangle plot "
   ]
  },
  {
   "cell_type": "code",
   "execution_count": null,
   "metadata": {
    "collapsed": false
   },
   "outputs": [],
   "source": [
    "import triangle\n",
    "fig = triangle.corner(samples, labels=[\"K\", \"a\", \"Amp1\", \"Phi1\", \"Per1\",  \"Amp2\", \"Phi2\", \"Per2\",\n",
    "             \"Amp3\", \"Phi3\", \"Per3\", \"sigma\"]) #truths=[m_true, b_true, np.log(f_true)   , \n",
    "fig.savefig(\"triangle.png\")"
   ]
  },
  {
   "cell_type": "code",
   "execution_count": null,
   "metadata": {
    "collapsed": true
   },
   "outputs": [],
   "source": [
    "(K_mcmc, a_mcmc, Amp_mcmc, Phi_mcmc, Per_mcmc, Amp2_mcmc, Phi2_mcmc, Per2_mcmc, Amp3_mcmc, Phi3_mcmc, Per3_mcmc,\n",
    " sigma_mcmc) = map(lambda v: (v[1], v[2]-v[1], v[1]-v[0]), zip(*np.percentile(samples, [15.86, 50, 84.14], axis=0)))"
   ]
  },
  {
   "cell_type": "code",
   "execution_count": null,
   "metadata": {
    "collapsed": false
   },
   "outputs": [],
   "source": [
    "print('K value {0:3.2f} +{1:3.2f} - {1:3.2f}' .format(K_mcmc[0],K_mcmc[1], K_mcmc[2] ))\n",
    "print('Chi2 value {0:3.2f} with {1:1.0f} points and 12 parameters' .format(chi2, len(rvs)))\n",
    "print('First period {0:3.2f} + {1:3.2f} - {1:3.2f}'.format(Per_mcmc[0], Per_mcmc[1], Per_mcmc[2]))\n",
    "print('Second period {0:3.2f} + {1:3.2f} - {1:3.2f}'.format(Per2_mcmc[0], Per2_mcmc[1], Per2_mcmc[2]))\n",
    "print('Third period {0:3.2f} + {1:3.2f} - {1:3.2f}'.format(Per3_mcmc[0], Per3_mcmc[1], Per3_mcmc[2]))"
   ]
  },
  {
   "cell_type": "code",
   "execution_count": null,
   "metadata": {
    "collapsed": true
   },
   "outputs": [],
   "source": []
  }
 ],
 "metadata": {
  "kernelspec": {
   "display_name": "Python 2",
   "language": "python",
   "name": "python2"
  },
  "language_info": {
   "codemirror_mode": {
    "name": "ipython",
    "version": 2
   },
   "file_extension": ".py",
   "mimetype": "text/x-python",
   "name": "python",
   "nbconvert_exporter": "python",
   "pygments_lexer": "ipython2",
   "version": "2.7.6"
  }
 },
 "nbformat": 4,
 "nbformat_minor": 0
}
