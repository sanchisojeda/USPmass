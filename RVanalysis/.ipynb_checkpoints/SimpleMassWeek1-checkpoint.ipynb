{
 "cells": [
  {
   "cell_type": "code",
   "execution_count": 38,
   "metadata": {
    "collapsed": false
   },
   "outputs": [],
   "source": [
    "%matplotlib inline\n",
    "import pandas as pd\n",
    "import numpy as np\n",
    "import matplotlib.pyplot as plt\n",
    "from scipy.optimize import curve_fit"
   ]
  },
  {
   "cell_type": "markdown",
   "metadata": {},
   "source": [
    "I first read the data obtained with the Keck telescope into the frame data"
   ]
  },
  {
   "cell_type": "code",
   "execution_count": 39,
   "metadata": {
    "collapsed": false
   },
   "outputs": [],
   "source": [
    "data = pd.read_table('Keckdata.txt', skiprows=[0, 2], sep='\\s+')"
   ]
  },
  {
   "cell_type": "markdown",
   "metadata": {},
   "source": [
    "I then select the 6 observations taken during the first intense series of observations"
   ]
  },
  {
   "cell_type": "code",
   "execution_count": 40,
   "metadata": {
    "collapsed": false
   },
   "outputs": [
    {
     "data": {
      "text/html": [
       "<div style=\"max-height:1000px;max-width:1500px;overflow:auto;\">\n",
       "<table border=\"1\" class=\"dataframe\">\n",
       "  <thead>\n",
       "    <tr style=\"text-align: right;\">\n",
       "      <th></th>\n",
       "      <th>Obnm</th>\n",
       "      <th>UTdate</th>\n",
       "      <th>JD-2.44e6</th>\n",
       "      <th>mnvel</th>\n",
       "      <th>errvel</th>\n",
       "      <th>mdchi</th>\n",
       "      <th>cts</th>\n",
       "    </tr>\n",
       "  </thead>\n",
       "  <tbody>\n",
       "    <tr>\n",
       "      <th>4</th>\n",
       "      <td> rj189.1287</td>\n",
       "      <td> 2014/07/10</td>\n",
       "      <td> 16848.932372</td>\n",
       "      <td> -9.97</td>\n",
       "      <td> 2.39</td>\n",
       "      <td> 1.130</td>\n",
       "      <td> 8240</td>\n",
       "    </tr>\n",
       "    <tr>\n",
       "      <th>5</th>\n",
       "      <td> rj189.1682</td>\n",
       "      <td> 2014/07/12</td>\n",
       "      <td> 16850.837724</td>\n",
       "      <td>-10.76</td>\n",
       "      <td> 2.46</td>\n",
       "      <td> 1.147</td>\n",
       "      <td> 7866</td>\n",
       "    </tr>\n",
       "    <tr>\n",
       "      <th>6</th>\n",
       "      <td> rj189.1882</td>\n",
       "      <td> 2014/07/13</td>\n",
       "      <td> 16851.782552</td>\n",
       "      <td> -1.82</td>\n",
       "      <td> 2.21</td>\n",
       "      <td> 1.124</td>\n",
       "      <td> 8194</td>\n",
       "    </tr>\n",
       "    <tr>\n",
       "      <th>7</th>\n",
       "      <td> rj189.2194</td>\n",
       "      <td> 2014/07/15</td>\n",
       "      <td> 16853.874880</td>\n",
       "      <td> -5.72</td>\n",
       "      <td> 2.22</td>\n",
       "      <td> 1.154</td>\n",
       "      <td> 8775</td>\n",
       "    </tr>\n",
       "    <tr>\n",
       "      <th>8</th>\n",
       "      <td> rj189.2372</td>\n",
       "      <td> 2014/07/16</td>\n",
       "      <td> 16854.893017</td>\n",
       "      <td> -7.96</td>\n",
       "      <td> 2.39</td>\n",
       "      <td> 1.111</td>\n",
       "      <td> 7600</td>\n",
       "    </tr>\n",
       "    <tr>\n",
       "      <th>9</th>\n",
       "      <td> rj189.2500</td>\n",
       "      <td> 2014/07/17</td>\n",
       "      <td> 16855.930215</td>\n",
       "      <td> -0.38</td>\n",
       "      <td> 2.14</td>\n",
       "      <td> 1.130</td>\n",
       "      <td> 8422</td>\n",
       "    </tr>\n",
       "  </tbody>\n",
       "</table>\n",
       "</div>"
      ],
      "text/plain": [
       "         Obnm      UTdate     JD-2.44e6  mnvel  errvel  mdchi   cts\n",
       "4  rj189.1287  2014/07/10  16848.932372  -9.97    2.39  1.130  8240\n",
       "5  rj189.1682  2014/07/12  16850.837724 -10.76    2.46  1.147  7866\n",
       "6  rj189.1882  2014/07/13  16851.782552  -1.82    2.21  1.124  8194\n",
       "7  rj189.2194  2014/07/15  16853.874880  -5.72    2.22  1.154  8775\n",
       "8  rj189.2372  2014/07/16  16854.893017  -7.96    2.39  1.111  7600\n",
       "9  rj189.2500  2014/07/17  16855.930215  -0.38    2.14  1.130  8422"
      ]
     },
     "execution_count": 40,
     "metadata": {},
     "output_type": "execute_result"
    }
   ],
   "source": [
    "vals = (data['JD-2.44e6'] < 16856.0) & (data['JD-2.44e6']> 16845.0)\n",
    "newdata = data[vals]\n",
    "newdata"
   ]
  },
  {
   "cell_type": "markdown",
   "metadata": {},
   "source": [
    "And I select the three important variables, with the option to add an error in quadrature"
   ]
  },
  {
   "cell_type": "code",
   "execution_count": 41,
   "metadata": {
    "collapsed": false
   },
   "outputs": [],
   "source": [
    "bjd = np.array(newdata['JD-2.44e6'], 'd')\n",
    "rvs = np.array(newdata['mnvel'], 'd')\n",
    "rverr = np.array(newdata['errvel'], 'd')\n",
    "additionalerr = 0.0\n",
    "error = np.sqrt(rverr**2+additionalerr**2)"
   ]
  },
  {
   "cell_type": "markdown",
   "metadata": {},
   "source": [
    "Now I use the orbital ephemeris obtained from the transits to define the orbital phases, and I also define a new zero point for the BJD timestamps"
   ]
  },
  {
   "cell_type": "code",
   "execution_count": 16,
   "metadata": {
    "collapsed": false
   },
   "outputs": [],
   "source": [
    "period = 0.6892099\n",
    "tc = 2454953.1910\n",
    "tc = tc-2440000.0\n",
    "\n",
    "phasesaux = (bjd-tc)/period\n",
    "phases, orbit = np.modf(phasesaux)\n",
    "\n",
    "phases = phases\n",
    "bjdlv = np.mean(bjd)\n",
    "bjdrest, bjdint = np.modf(bjdlv)\n",
    "\n",
    "phi0 = (bjdint-tc)/period\n",
    "aux, phi0 = phi0-np.modf(phi0)\n",
    "\n",
    "shortbjd = bjd-bjdint\n",
    "\n",
    "data = np.append(phases, shortbjd)"
   ]
  },
  {
   "cell_type": "markdown",
   "metadata": {},
   "source": [
    "Now I define a function to fit a simple second order polynomial with time with the planet signal"
   ]
  },
  {
   "cell_type": "code",
   "execution_count": 17,
   "metadata": {
    "collapsed": false
   },
   "outputs": [],
   "source": [
    "def parabolaplanet(x, K, a, b, c):\n",
    "    \"Model to fit a sinusoid to the RV data\"\n",
    "    num = len(x)\n",
    "    newphase = x[0:num/2]\n",
    "    newbjd = x[num/2:]\n",
    "    return -K*np.sin(2.0*np.pi*newphase) + a + b*newbjd + c*newbjd**2"
   ]
  },
  {
   "cell_type": "markdown",
   "metadata": {},
   "source": [
    "And I obtain the best fit parameters, their uncertainties, and I plot the observations and the model"
   ]
  },
  {
   "cell_type": "code",
   "execution_count": 18,
   "metadata": {
    "collapsed": false
   },
   "outputs": [],
   "source": [
    "params, conv = curve_fit(parabolaplanet, data, rvs, sigma=error )\n",
    "paramserror = np.sqrt(np.diag(conv))\n"
   ]
  },
  {
   "cell_type": "code",
   "execution_count": 34,
   "metadata": {
    "collapsed": false
   },
   "outputs": [
    {
     "data": {
      "text/plain": [
       "[<matplotlib.lines.Line2D at 0x111bb5a50>]"
      ]
     },
     "execution_count": 34,
     "metadata": {},
     "output_type": "execute_result"
    },
    {
     "data": {
      "image/png": "[encoded data removed]",
      "text/plain": [
       "<matplotlib.figure.Figure at 0x1109574d0>"
      ]
     },
     "metadata": {},
     "output_type": "display_data"
    }
   ],
   "source": [
    "fig = plt.figure(figsize=(14,4))\n",
    "ax = fig.add_subplot(1,2,1)\n",
    "ax.scatter(shortbjd, rvs)\n",
    "ax.errorbar(shortbjd, rvs, yerr=error, fmt='o')\n",
    "plt.xlim([-5, 5]) \n",
    "ax.set_xlabel('Time [BJD]')\n",
    "ax.set_ylabel('Radial velocity [m/s]')\n",
    "\n",
    "K, a, b, c = params\n",
    "Kerr, aerr, berr, cerr = paramserror\n",
    "theoRV = parabolaplanet(data, K, a, b, c)\n",
    "chi2= np.sum( ((theoRV-rvs)/error)**2)\n",
    "\n",
    "newbjd = np.linspace(-5, 5, 500)\n",
    "newx = (newbjd/period) + phi0\n",
    "\n",
    "newdata = np.append(newx, newbjd)\n",
    "\n",
    "plt.plot(newbjd, parabolaplanet(newdata, K, a, b, c))\n",
    "\n",
    "\n",
    "\n",
    "ax = fig.add_subplot(1,2,2)\n",
    "\n",
    "plottheoRV = parabolaplanet(data, 0.0, a, b, c)\n",
    "\n",
    "ax.scatter(phases, rvs-plottheoRV)\n",
    "ax.errorbar(phases, rvs-plottheoRV, yerr=error, fmt='o')\n",
    "plt.xlim([-0, 1]) \n",
    "ax.set_xlabel('Orbital phase')\n",
    "ax.set_ylabel('Fiducial Radial velocity [m/s]')\n",
    "\n",
    "plt.plot(pha, parabolaplanet(newdata, K, 0.0, 0.0, 0.0))\n",
    "\n",
    "\n",
    "\n",
    "\n"
   ]
  },
  {
   "cell_type": "code",
   "execution_count": 23,
   "metadata": {
    "collapsed": false
   },
   "outputs": [
    {
     "name": "stdout",
     "output_type": "stream",
     "text": [
      "K value 3.09 +- 1.54\n",
      "Chi2 value 3.69 with 6 points\n"
     ]
    }
   ],
   "source": [
    "print('K value {0:3.2f} +- {1:3.2f}' .format(K, Kerr))\n",
    "print('Chi2 value {0:3.2f} with {1:1.0f} points' .format(chi2, len(rvs)))"
   ]
  },
  {
   "cell_type": "code",
   "execution_count": null,
   "metadata": {
    "collapsed": true
   },
   "outputs": [],
   "source": []
  }
 ],
 "metadata": {
  "kernelspec": {
   "display_name": "Python 2",
   "language": "python",
   "name": "python2"
  },
  "language_info": {
   "codemirror_mode": {
    "name": "ipython",
    "version": 2
   },
   "file_extension": ".py",
   "mimetype": "text/x-python",
   "name": "python",
   "nbconvert_exporter": "python",
   "pygments_lexer": "ipython2",
   "version": "2.7.6"
  }
 },
 "nbformat": 4,
 "nbformat_minor": 0
}
